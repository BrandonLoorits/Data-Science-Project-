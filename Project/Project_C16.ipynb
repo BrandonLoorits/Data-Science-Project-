{
 "cells": [
  {
   "cell_type": "code",
   "execution_count": 1,
   "metadata": {
    "id": "C5GAJNu659Iy"
   },
   "outputs": [],
   "source": [
    "#Reading data\n",
    "import numpy as np\n",
    "import pandas as pd\n",
    "from scipy import stats"
   ]
  },
  {
   "cell_type": "code",
   "execution_count": 2,
   "metadata": {
    "id": "0cRbLlEjC691"
   },
   "outputs": [],
   "source": [
    "def makeFloats(data):\n",
    "  for i in range(len(data[\"Keskmine\"])):\n",
    "    a=data.iloc[i,9]\n",
    "    if type(a)==str:\n",
    "      a=a.replace(\",\",\".\")\n",
    "      a=float(a)\n",
    "      data.iat[i,9]=a"
   ]
  },
  {
   "cell_type": "code",
   "execution_count": 3,
   "metadata": {
    "id": "WE2p0RxJ4Swi"
   },
   "outputs": [],
   "source": [
    "def average(dictionary):\n",
    "    summary = sum(dictionary.values())\n",
    "    result = 0\n",
    "    for i in dictionary:\n",
    "        result += ((dictionary.get(i)/summary)*i)\n",
    "    return result,summary"
   ]
  },
  {
   "cell_type": "code",
   "execution_count": 4,
   "metadata": {
    "id": "QgtPwT_x4Mlv"
   },
   "outputs": [],
   "source": [
    "def find(data,myset):\n",
    "  uusData = pd.DataFrame(columns = ['Aasta', 'Test', 'Kooli tüüp', 'Õppekeel', 'Maakond',\n",
    "       'Õppeasutus', 'Sooritajaid', 'Keskmine'])\n",
    "  i=0\n",
    "  result=0\n",
    "  for i in range(len(data)):\n",
    "    ajutine=data.iloc[i,6]\n",
    "    if(not(ajutine in myset)):\n",
    "      myset.append(ajutine)\n",
    "      dic={}\n",
    "      for x in range(len(data)):\n",
    "        if(ajutine==data.iloc[x,6]):\n",
    "          a=data.iloc[x,9]\n",
    "          dic[a] = data.iloc[x,8]\n",
    "      avr = average(dic)\n",
    "      new_row = {\"Aasta\":data.iloc[i,0], 'Test':data.iloc[i,1], 'Kooli tüüp':data.iloc[i,3], 'Õppekeel':data.iloc[i,4], 'Maakond':data.iloc[i,5],\n",
    "       'Õppeasutus':data.iloc[i,6], 'Sooritajaid':avr[1], 'Keskmine':avr[0]}\n",
    "      uusData=uusData.append(new_row,ignore_index=True)\n",
    "      #uusData.loc[-1] = [2, 3, 4]\n",
    "      result+=1\n",
    "  return uusData\n",
    "\n"
   ]
  },
  {
   "cell_type": "code",
   "execution_count": 5,
   "metadata": {},
   "outputs": [],
   "source": [
    "def BestState(data):\n",
    "    result = data.sort_values(by=\"Keskmine\",ascending=False).head(10)\n",
    "    result.index = np.arange(1, len(result) + 1)\n",
    "    return result[[\"Maakond\",\"Keskmine\"]]"
   ]
  },
  {
   "cell_type": "code",
   "execution_count": 6,
   "metadata": {},
   "outputs": [],
   "source": [
    "def BestSchool(data):\n",
    "    result = data.sort_values(by=\"Keskmine\",ascending=False).head(10)\n",
    "    result.index = np.arange(1, len(result) + 1)\n",
    "    return result[[\"Õppeasutus\",\"Keskmine\"]]"
   ]
  },
  {
   "cell_type": "code",
   "execution_count": null,
   "metadata": {},
   "outputs": [],
   "source": []
  },
  {
   "cell_type": "code",
   "execution_count": 7,
   "metadata": {},
   "outputs": [],
   "source": [
    "def findState(data,myset):\n",
    "  uusData = pd.DataFrame(columns = ['Aasta', 'Test', 'Kooli tüüp', 'Õppekeel', 'Maakond',\n",
    "       'Õppeasutus', 'Sooritajaid', 'Keskmine'])\n",
    "  i=0\n",
    "  for i in range(len(data)):\n",
    "    ajutine=data.iloc[i,5]\n",
    "    if(not(ajutine in myset)):\n",
    "      myset.append(ajutine)\n",
    "      dic={}\n",
    "      for x in range(len(data)):\n",
    "        if(ajutine==data.iloc[x,5]):\n",
    "          a=data.iloc[x,9]\n",
    "          dic[a] = data.iloc[x,8]\n",
    "      avr = average(dic)\n",
    "      new_row = {\"Aasta\":data.iloc[i,0], 'Test':data.iloc[i,1], 'Kooli tüüp':data.iloc[i,3], 'Õppekeel':data.iloc[i,4], 'Maakond':data.iloc[i,5],\n",
    "       'Õppeasutus':data.iloc[i,6], 'Sooritajaid':avr[1], 'Keskmine':avr[0]}\n",
    "      uusData=uusData.append(new_row,ignore_index=True)\n",
    "  return uusData"
   ]
  },
  {
   "cell_type": "code",
   "execution_count": 8,
   "metadata": {
    "colab": {
     "base_uri": "https://localhost:8080/"
    },
    "id": "TSZprblX59JB",
    "outputId": "f1714936-2dc3-4871-9182-12eb87bf9734"
   },
   "outputs": [],
   "source": [
    "Est2018 = pd.read_csv(\"Estonian-2018.csv\",sep= \";\")\n",
    "Est2018 = Est2018.drop('AUP', axis=1)\n",
    "Est2018 = Est2018.drop('ÜUP', axis=1)\n",
    "Est2018 = Est2018.drop(\"Testi ID\",axis=1)\n",
    "Est2018 = Est2018.drop(\"Soorituskeel\",axis=1)\n",
    "Est2018 = Est2018.drop(\"Max võimalik pallide arv\",axis=1)\n",
    "Est2018 = Est2018.drop(Est2018.columns[10:],axis=1)\n",
    "\n",
    "makeFloats(Est2018)\n",
    "Est2018_Schools = find(Est2018,[])\n",
    "Est2018_States = findState(Est2018,[])"
   ]
  },
  {
   "cell_type": "code",
   "execution_count": 9,
   "metadata": {
    "id": "smwgjf5Z59JD"
   },
   "outputs": [],
   "source": [
    "Est2019 = pd.read_csv(\"Estonian-2019.csv\",sep= \";\")\n",
    "Est2019 = Est2019.drop('AUP', axis=1)\n",
    "Est2019 = Est2019.drop('ÜUP', axis=1)\n",
    "Est2019 = Est2019.drop(\"Testi ID\",axis=1)\n",
    "Est2019 = Est2019.drop(\"Soorituskeel\",axis=1)\n",
    "Est2019 = Est2019.drop(\"Max võimalik pallide arv\",axis=1)\n",
    "Est2019 = Est2019.drop(Est2019.columns[10:],axis=1)\n",
    "\n",
    "makeFloats(Est2019)\n",
    "Est2019_Schools = find(Est2019,[])\n",
    "Est2019_States = findState(Est2019,[])"
   ]
  },
  {
   "cell_type": "code",
   "execution_count": 10,
   "metadata": {
    "id": "dr6u4UI159JE"
   },
   "outputs": [],
   "source": [
    "Est2020 = pd.read_csv(\"Estonian-2020.csv\",sep= \";\")\n",
    "Est2020 = Est2020.drop('AUP', axis=1)\n",
    "Est2020 = Est2020.drop('ÜUP', axis=1)\n",
    "Est2020 = Est2020.drop(\"Testi ID\",axis=1)\n",
    "Est2020 = Est2020.drop(\"Soorituskeel\",axis=1)\n",
    "Est2020 = Est2020.drop(\"Max võimalik pallide arv\",axis=1)\n",
    "Est2020 = Est2020.drop(Est2020.columns[10:],axis=1)\n",
    "\n",
    "makeFloats(Est2020)\n",
    "Est2020_Schools = find(Est2020,[])\n",
    "Est2020_States = findState(Est2020,[])"
   ]
  },
  {
   "cell_type": "code",
   "execution_count": 11,
   "metadata": {
    "id": "2T1g5HM659JF"
   },
   "outputs": [],
   "source": [
    "Math2018A = pd.read_csv(\"Math-advanced-2018.csv\",sep= \";\")\n",
    "Math2018A = Math2018A.drop('AUP', axis=1)\n",
    "Math2018A = Math2018A.drop('ÜUP', axis=1)\n",
    "Math2018A = Math2018A.drop(\"Testi ID\",axis=1)\n",
    "Math2018A = Math2018A.drop(\"Soorituskeel\",axis=1)\n",
    "Math2018A = Math2018A.drop(\"Max võimalik pallide arv\",axis=1)\n",
    "Math2018A = Math2018A.drop(Math2018A.columns[10:],axis=1)\n",
    "\n",
    "makeFloats(Math2018A)\n",
    "Math2018A_Schools = find(Math2018A,[])\n",
    "Math2018A_States = findState(Math2018A,[])"
   ]
  },
  {
   "cell_type": "code",
   "execution_count": 12,
   "metadata": {
    "id": "COC2LnvG59JG"
   },
   "outputs": [],
   "source": [
    "Math2019A = pd.read_csv(\"Math-advanced-2019.csv\",sep= \";\")\n",
    "Math2019A = Math2019A.drop('AUP', axis=1)\n",
    "Math2019A = Math2019A.drop('ÜUP', axis=1)\n",
    "Math2019A = Math2019A.drop(\"Testi ID\",axis=1)\n",
    "Math2019A = Math2019A.drop(\"Soorituskeel\",axis=1)\n",
    "Math2019A = Math2019A.drop(\"Max võimalik pallide arv\",axis=1)\n",
    "Math2019A = Math2019A.drop(Math2019A.columns[10:],axis=1)\n",
    "\n",
    "makeFloats(Math2019A)\n",
    "Math2019A_Schools = find(Math2019A,[])\n",
    "Math2019A_States = findState(Math2019A,[])"
   ]
  },
  {
   "cell_type": "code",
   "execution_count": 13,
   "metadata": {
    "id": "sVfMkbsH59JH"
   },
   "outputs": [],
   "source": [
    "Math2020A = pd.read_csv(\"Math-advanced-2020.csv\",sep= \";\")\n",
    "Math2020A = Math2020A.drop('AUP', axis=1)\n",
    "Math2020A = Math2020A.drop('ÜUP', axis=1)\n",
    "Math2020A = Math2020A.drop(\"Testi ID\",axis=1)\n",
    "Math2020A = Math2020A.drop(\"Soorituskeel\",axis=1)\n",
    "Math2020A = Math2020A.drop(\"Max võimalik pallide arv\",axis=1)\n",
    "Math2020A = Math2020A.drop(Math2020A.columns[10:],axis=1)\n",
    "\n",
    "makeFloats(Math2020A)\n",
    "Math2020A_Schools = find(Math2020A,[])\n",
    "Math2020A_States = findState(Math2020A,[])"
   ]
  },
  {
   "cell_type": "code",
   "execution_count": 14,
   "metadata": {
    "id": "G_u5H3AH59JH"
   },
   "outputs": [],
   "source": [
    "Math2018 = pd.read_csv(\"Math-simple-2018.csv\",sep= \";\")\n",
    "Math2018 = Math2018.drop('AUP', axis=1)\n",
    "Math2018 = Math2018.drop('ÜUP', axis=1)\n",
    "Math2018 = Math2018.drop(\"Testi ID\",axis=1)\n",
    "Math2018 = Math2018.drop(\"Soorituskeel\",axis=1)\n",
    "Math2018 = Math2018.drop(\"Max võimalik pallide arv\",axis=1)\n",
    "Math2018 = Math2018.drop(Math2018.columns[10:],axis=1)\n",
    "\n",
    "makeFloats(Math2018)\n",
    "Math2018_Schools = find(Math2018,[])\n",
    "Math2018_States = findState(Math2018,[])"
   ]
  },
  {
   "cell_type": "code",
   "execution_count": 15,
   "metadata": {
    "id": "Sjibi_uU59JI"
   },
   "outputs": [],
   "source": [
    "Math2019 = pd.read_csv(\"Math-simple-2019.csv\",sep= \";\")\n",
    "Math2019 = Math2019.drop('AUP', axis=1)\n",
    "Math2019 = Math2019.drop('ÜUP', axis=1)\n",
    "Math2019 = Math2019.drop(\"Testi ID\",axis=1)\n",
    "Math2019 = Math2019.drop(\"Soorituskeel\",axis=1)\n",
    "Math2019 = Math2019.drop(\"Max võimalik pallide arv\",axis=1)\n",
    "Math2019 = Math2019.drop(Math2019.columns[10:],axis=1)\n",
    "\n",
    "makeFloats(Math2019)\n",
    "Math2019_Schools = find(Math2019,[])\n",
    "Math2019_States = findState(Math2019,[])"
   ]
  },
  {
   "cell_type": "code",
   "execution_count": 16,
   "metadata": {
    "id": "ywluwrdk59JI"
   },
   "outputs": [],
   "source": [
    "Math2020 = pd.read_csv(\"Math-simple-2020.csv\",sep= \";\")\n",
    "Math2020 = Math2020.drop('AUP', axis=1)\n",
    "Math2020 = Math2020.drop('ÜUP', axis=1)\n",
    "Math2020 = Math2020.drop(\"Testi ID\",axis=1)\n",
    "Math2020 = Math2020.drop(\"Soorituskeel\",axis=1)\n",
    "Math2020 = Math2020.drop(\"Max võimalik pallide arv\",axis=1)\n",
    "Math2020 = Math2020.drop(Math2020.columns[10:],axis=1)\n",
    "\n",
    "makeFloats(Math2020)\n",
    "Math2020_Schools = find(Math2020,[])\n",
    "Math2020_States = findState(Math2020,[])"
   ]
  },
  {
   "cell_type": "code",
   "execution_count": null,
   "metadata": {
    "id": "k1eCC74f59JK"
   },
   "outputs": [],
   "source": []
  },
  {
   "cell_type": "code",
   "execution_count": null,
   "metadata": {
    "id": "wd4zGWbd59JL"
   },
   "outputs": [],
   "source": []
  },
  {
   "cell_type": "code",
   "execution_count": null,
   "metadata": {
    "id": "xws6YcKnnOjE"
   },
   "outputs": [],
   "source": []
  },
  {
   "cell_type": "code",
   "execution_count": 17,
   "metadata": {
    "colab": {
     "base_uri": "https://localhost:8080/"
    },
    "id": "DImxirAx59JM",
    "outputId": "1aaeb496-8c2e-41cc-cd09-dd9c21260631"
   },
   "outputs": [
    {
     "data": {
      "text/plain": [
       "<matplotlib.legend.Legend at 0x21e796e8bb0>"
      ]
     },
     "execution_count": 17,
     "metadata": {},
     "output_type": "execute_result"
    },
    {
     "data": {
      "image/png": "[encoded data removed]",
      "text/plain": [
       "<Figure size 432x288 with 1 Axes>"
      ]
     },
     "metadata": {
      "needs_background": "light"
     },
     "output_type": "display_data"
    },
    {
     "data": {
      "image/png": "[encoded data removed]",
      "text/plain": [
       "<Figure size 432x288 with 1 Axes>"
      ]
     },
     "metadata": {
      "needs_background": "light"
     },
     "output_type": "display_data"
    }
   ],
   "source": [
    "school = BestSchool(Est2018_Schools)\n",
    "state = BestState(Est2018_States)\n",
    "\n",
    "school = school.plot(x ='Õppeasutus', y='Keskmine', kind='bar')\n",
    "school.set_xlabel(\"School\")\n",
    "school.set_ylabel(\"Score\")\n",
    "school.legend([\"Average\"])\n",
    "state = state.plot(x ='Maakond', y='Keskmine', kind='bar')\n",
    "state.set_xlabel(\"State\")\n",
    "state.set_ylabel(\"Score\")\n",
    "state.legend([\"Average\"])"
   ]
  },
  {
   "cell_type": "code",
   "execution_count": null,
   "metadata": {
    "colab": {
     "base_uri": "https://localhost:8080/"
    },
    "id": "wvn9QqaD59JN",
    "outputId": "fc36a1c4-b632-4edb-93fa-b6175853fe63"
   },
   "outputs": [
    {
     "data": {
      "image/png": "[encoded data removed]",
      "text/plain": [
       "<Figure size 432x288 with 1 Axes>"
      ]
     },
     "metadata": {
      "needs_background": "light"
     },
     "output_type": "display_data"
    }
   ],
   "source": [
    "school = BestSchool(Est2019_Schools)\n",
    "state = BestState(Est2019_States)\n",
    "\n",
    "school = school.plot(x ='Õppeasutus', y='Keskmine', kind='bar')\n",
    "school.set_xlabel(\"School\")\n",
    "school.set_ylabel(\"Score\")\n",
    "school.legend([\"Average\"]);\n",
    "state = state.plot(x ='Maakond', y='Keskmine', kind='bar')\n",
    "state.set_xlabel(\"State\")\n",
    "state.set_ylabel(\"Score\")\n",
    "state.legend([\"Average\"]);"
   ]
  },
  {
   "cell_type": "code",
   "execution_count": null,
   "metadata": {
    "colab": {
     "base_uri": "https://localhost:8080/"
    },
    "id": "wS9JjrXU59JN",
    "outputId": "9f4bc20c-e4ec-42fe-9cca-644fb9894da1"
   },
   "outputs": [],
   "source": [
    "school = BestSchool(Est2020_Schools)\n",
    "state = BestState(Est2020_States)\n",
    "\n",
    "school = school.plot(x ='Õppeasutus', y='Keskmine', kind='bar')\n",
    "school.set_xlabel(\"School\")\n",
    "school.set_ylabel(\"Score\")\n",
    "school.legend([\"Average\"]);\n",
    "state = state.plot(x ='Maakond', y='Keskmine', kind='bar')\n",
    "state.set_xlabel(\"State\")\n",
    "state.set_ylabel(\"Score\")\n",
    "state.legend([\"Average\"]);"
   ]
  },
  {
   "cell_type": "code",
   "execution_count": null,
   "metadata": {
    "colab": {
     "base_uri": "https://localhost:8080/"
    },
    "id": "aHSiM-xL59JO",
    "outputId": "eaf28789-66b8-429c-f3d1-53f9a12926b0"
   },
   "outputs": [],
   "source": [
    "school = BestSchool(Math2018A_Schools)\n",
    "state = BestState(Math2018A_States)\n",
    "\n",
    "school = school.plot(x ='Õppeasutus', y='Keskmine', kind='bar')\n",
    "school.set_xlabel(\"School\")\n",
    "school.set_ylabel(\"Score\")\n",
    "school.legend([\"Average\"]);\n",
    "state = state.plot(x ='Maakond', y='Keskmine', kind='bar')\n",
    "state.set_xlabel(\"State\")\n",
    "state.set_ylabel(\"Score\")\n",
    "state.legend([\"Average\"]);"
   ]
  },
  {
   "cell_type": "code",
   "execution_count": null,
   "metadata": {
    "colab": {
     "base_uri": "https://localhost:8080/"
    },
    "id": "JzM-I5Lb59JO",
    "outputId": "8cf78019-a1b2-4247-8d01-7b9f712a90aa"
   },
   "outputs": [],
   "source": [
    "school = BestSchool(Math2019A_Schools)\n",
    "state = BestState(Math2019A_States)\n",
    "\n",
    "school = school.plot(x ='Õppeasutus', y='Keskmine', kind='bar')\n",
    "school.set_xlabel(\"School\")\n",
    "school.set_ylabel(\"Score\")\n",
    "school.legend([\"Average\"]);\n",
    "state = state.plot(x ='Maakond', y='Keskmine', kind='bar')\n",
    "state.set_xlabel(\"State\")\n",
    "state.set_ylabel(\"Score\")\n",
    "state.legend([\"Average\"]);"
   ]
  },
  {
   "cell_type": "code",
   "execution_count": null,
   "metadata": {
    "colab": {
     "base_uri": "https://localhost:8080/"
    },
    "id": "-jCXlmL559JP",
    "outputId": "1ff09245-f81a-4861-a4f4-bb65c3b6e77b"
   },
   "outputs": [],
   "source": [
    "school = BestSchool(Math2020A_Schools)\n",
    "state = BestState(Math2020A_States)\n",
    "\n",
    "school = school.plot(x ='Õppeasutus', y='Keskmine', kind='bar')\n",
    "school.set_xlabel(\"School\")\n",
    "school.set_ylabel(\"Score\")\n",
    "school.legend([\"Average\"]);\n",
    "state = state.plot(x ='Maakond', y='Keskmine', kind='bar')\n",
    "state.set_xlabel(\"State\")\n",
    "state.set_ylabel(\"Score\")\n",
    "state.legend([\"Average\"]);"
   ]
  },
  {
   "cell_type": "code",
   "execution_count": null,
   "metadata": {
    "colab": {
     "base_uri": "https://localhost:8080/"
    },
    "id": "XI5Ywd3q59JP",
    "outputId": "68667f12-9e38-41a7-ac31-a1ae7774d8ae"
   },
   "outputs": [],
   "source": [
    "school = BestSchool(Math2018_Schools)\n",
    "state = BestState(Math2018_States)\n",
    "\n",
    "school = school.plot(x ='Õppeasutus', y='Keskmine', kind='bar')\n",
    "school.set_xlabel(\"School\")\n",
    "school.set_ylabel(\"Score\")\n",
    "school.legend([\"Average\"]);\n",
    "state = state.plot(x ='Maakond', y='Keskmine', kind='bar')\n",
    "state.set_xlabel(\"State\")\n",
    "state.set_ylabel(\"Score\")\n",
    "state.legend([\"Average\"]);"
   ]
  },
  {
   "cell_type": "code",
   "execution_count": null,
   "metadata": {
    "colab": {
     "base_uri": "https://localhost:8080/"
    },
    "id": "nkECYnkm59JQ",
    "outputId": "edef24cc-4444-4c18-d8cc-0f8cf513d675"
   },
   "outputs": [],
   "source": [
    "school = BestSchool(Math2019_Schools)\n",
    "state = BestState(Math2019_States)\n",
    "\n",
    "school = school.plot(x ='Õppeasutus', y='Keskmine', kind='bar')\n",
    "school.set_xlabel(\"School\")\n",
    "school.set_ylabel(\"Score\")\n",
    "school.legend([\"Average\"]);\n",
    "state = state.plot(x ='Maakond', y='Keskmine', kind='bar')\n",
    "state.set_xlabel(\"State\")\n",
    "state.set_ylabel(\"Score\")\n",
    "state.legend([\"Average\"]);"
   ]
  },
  {
   "cell_type": "code",
   "execution_count": null,
   "metadata": {
    "colab": {
     "base_uri": "https://localhost:8080/"
    },
    "id": "n_qcxilI59JQ",
    "outputId": "d36874a6-56d1-4a48-e0f6-9c317cdcd02e"
   },
   "outputs": [],
   "source": [
    "school = BestSchool(Math2020_Schools)\n",
    "state = BestState(Math2020_States)\n",
    "\n",
    "school = school.plot(x ='Õppeasutus', y='Keskmine', kind='bar')\n",
    "school.set_xlabel(\"School\")\n",
    "school.set_ylabel(\"Score\")\n",
    "school.legend([\"Average\"]);\n",
    "state = state.plot(x ='Maakond', y='Keskmine', kind='bar')\n",
    "state.set_xlabel(\"State\")\n",
    "state.set_ylabel(\"Score\")\n",
    "state.legend([\"Average\"]);"
   ]
  },
  {
   "cell_type": "code",
   "execution_count": null,
   "metadata": {
    "id": "syJyXmSU6Xe6"
   },
   "outputs": [],
   "source": [
    "diffs = [\"Estonian language 2018->2019:\",\"Estonian language 2019->2020:\",\"Math advanced exam 2018->2019:\",\"Math advanced exam 2019->2020:\",\"Math exam 2018->2019:\",\"Math exam 2019->2020:\"]\n",
    "exams_Schools = [Est2018_Schools,Est2019_Schools,Est2020_Schools,Math2018A_Schools,Math2019A_Schools,Math2020A_Schools,Math2018_Schools,Math2019_Schools,Math2020_Schools]\n",
    "#exams_States = [Est2018_States,Est2019_States,Est2020_States,Math2018A_States,Math2019A_States,Math2020A_States,Math2018_States,Math2019_States,Math2020_States]\n",
    "counter=0\n",
    "ttest_Schools = []\n",
    "#ttest_States = []\n",
    "for i in exams_Schools:\n",
    "  exam = i[\"Keskmine\"]\n",
    "  exams_Schools[counter] = exam\n",
    "  counter += 1\n",
    "\n",
    "#print(exams_Schools)\n",
    "\n",
    "counter=0\n",
    "\n",
    "#print(exams_States)\n",
    "for i in range(6):\n",
    "  ttest_Schools.append(stats.ttest_ind(exams_Schools[counter],exams_Schools[counter+1], equal_var = False))\n",
    "  counter+=1\n",
    "  if (counter//2 == 0):\n",
    "    counter+=1\n",
    "\n",
    "\n",
    "for i in range(6):\n",
    "  print(diffs[i],ttest_Schools[i])\n",
    "#print(ttest_Schools)"
   ]
  },
  {
   "cell_type": "code",
   "execution_count": null,
   "metadata": {},
   "outputs": [],
   "source": []
  }
 ],
 "metadata": {
  "colab": {
   "collapsed_sections": [],
   "name": "Project-C16.ipynb",
   "provenance": []
  },
  "kernelspec": {
   "display_name": "Python 3",
   "language": "python",
   "name": "python3"
  },
  "language_info": {
   "codemirror_mode": {
    "name": "ipython",
    "version": 3
   },
   "file_extension": ".py",
   "mimetype": "text/x-python",
   "name": "python",
   "nbconvert_exporter": "python",
   "pygments_lexer": "ipython3",
   "version": "3.8.3"
  }
 },
 "nbformat": 4,
 "nbformat_minor": 1
}

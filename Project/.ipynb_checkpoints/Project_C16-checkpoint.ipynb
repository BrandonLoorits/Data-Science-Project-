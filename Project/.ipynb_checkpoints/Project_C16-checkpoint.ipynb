{
 "cells": [
  {
   "cell_type": "code",
   "execution_count": 1,
   "metadata": {
    "id": "C5GAJNu659Iy"
   },
   "outputs": [],
   "source": [
    "#Reading data\n",
    "import numpy as np\n",
    "import pandas as pd"
   ]
  },
  {
   "cell_type": "code",
   "execution_count": 2,
   "metadata": {
    "id": "0cRbLlEjC691"
   },
   "outputs": [],
   "source": [
    "def makeFloats(data):\n",
    "  for i in range(len(data[\"Keskmine\"])):\n",
    "    a=data.iloc[i,9]\n",
    "    if type(a)==str:\n",
    "      a=a.replace(\",\",\".\")\n",
    "      a=float(a)\n",
    "      data.iat[i,9]=a"
   ]
  },
  {
   "cell_type": "code",
   "execution_count": 3,
   "metadata": {
    "id": "WE2p0RxJ4Swi"
   },
   "outputs": [],
   "source": [
    "def average(dictionary):\n",
    "    summary = sum(dictionary.values())\n",
    "    result = 0\n",
    "    for i in dictionary:\n",
    "        result += ((dictionary.get(i)/summary)*i)\n",
    "    return result,summary"
   ]
  },
  {
   "cell_type": "code",
   "execution_count": 4,
   "metadata": {
    "id": "QgtPwT_x4Mlv"
   },
   "outputs": [],
   "source": [
    "def find1(data,myset):\n",
    "  uusData = pd.DataFrame(columns = ['Aasta', 'Test', 'Kooli tüüp', 'Õppekeel', 'Maakond',\n",
    "       'Õppeasutus', 'Sooritajaid', 'Keskmine'])\n",
    "  i=0\n",
    "  result=0\n",
    "  for i in range(len(data)):\n",
    "    ajutine=data.iloc[i,6]\n",
    "    if(not(ajutine in myset)):\n",
    "      myset.append(ajutine)\n",
    "      dic={}\n",
    "      for x in range(len(data)):\n",
    "        if(ajutine==data.iloc[x,6]):\n",
    "          a=data.iloc[x,9]\n",
    "          dic[a] = data.iloc[x,8]\n",
    "      avr = average(dic)\n",
    "      new_row = {\"Aasta\":data.iloc[i,0], 'Test':data.iloc[i,1], 'Kooli tüüp':data.iloc[i,3], 'Õppekeel':data.iloc[i,4], 'Maakond':data.iloc[i,5],\n",
    "       'Õppeasutus':data.iloc[i,6], 'Sooritajaid':avr[1], 'Keskmine':avr[0]}\n",
    "      uusData=uusData.append(new_row,ignore_index=True)\n",
    "      #uusData.loc[-1] = [2, 3, 4]\n",
    "      result+=1\n",
    "  return uusData\n",
    "\n"
   ]
  },
  {
   "cell_type": "code",
   "execution_count": 5,
   "metadata": {},
   "outputs": [],
   "source": [
    "def findMaakond(data,myset):\n",
    "  uusData = pd.DataFrame(columns = ['Aasta', 'Test', 'Kooli tüüp', 'Õppekeel', 'Maakond',\n",
    "       'Õppeasutus', 'Sooritajaid', 'Keskmine'])\n",
    "  i=0\n",
    "  result=0\n",
    "  for i in range(len(data)):\n",
    "    ajutine=data.iloc[i,4]\n",
    "    if(not(ajutine in myset)):\n",
    "      myset.append(ajutine)\n",
    "      dic={}\n",
    "      for x in range(len(data)):\n",
    "        if(ajutine==data.iloc[x,4]):\n",
    "          a=data.iloc[x,7]\n",
    "          dic[a] = data.iloc[x,6]\n",
    "      avr = average(dic)\n",
    "      new_row = {\"Aasta\":data.iloc[i,0], 'Test':data.iloc[i,1], 'Kooli tüüp':data.iloc[i,2], 'Õppekeel':data.iloc[i,3], 'Maakond':data.iloc[i,4],\n",
    "       'Õppeasutus':data.iloc[i,5], 'Sooritajaid':avr[1], 'Keskmine':avr[0]}\n",
    "      uusData=uusData.append(new_row,ignore_index=True)\n",
    "      #uusData.loc[-1] = [2, 3, 4]\n",
    "      result+=1\n",
    "  return uusData"
   ]
  },
  {
   "cell_type": "code",
   "execution_count": 6,
   "metadata": {
    "colab": {
     "base_uri": "https://localhost:8080/"
    },
    "id": "TSZprblX59JB",
    "outputId": "f1714936-2dc3-4871-9182-12eb87bf9734"
   },
   "outputs": [
    {
     "name": "stdout",
     "output_type": "stream",
     "text": [
      "Index(['Aasta', 'Test', 'Sugu', 'Kooli tüüp', 'Õppekeel', 'Maakond',\n",
      "       'Õppeasutus', 'Õppevorm', 'Sooritajaid', 'Keskmine'],\n",
      "      dtype='object')\n"
     ]
    }
   ],
   "source": [
    "Est2018 = pd.read_csv(\"Estonian-2018.csv\",sep= \";\")\n",
    "Est2018 = Est2018.drop('AUP', axis=1)\n",
    "Est2018 = Est2018.drop('ÜUP', axis=1)\n",
    "Est2018 = Est2018.drop(\"Testi ID\",axis=1)\n",
    "Est2018 = Est2018.drop(\"Soorituskeel\",axis=1)\n",
    "Est2018 = Est2018.drop(\"Max võimalik pallide arv\",axis=1)\n",
    "Est2018 = Est2018.drop(Est2018.columns[10:],axis=1)\n",
    "print(Est2018.columns)\n",
    "makeFloats(Est2018)\n",
    "resultEst2018 = find1(Est2018,[])"
   ]
  },
  {
   "cell_type": "code",
   "execution_count": 7,
   "metadata": {
    "id": "smwgjf5Z59JD"
   },
   "outputs": [],
   "source": [
    "Est2019 = pd.read_csv(\"Estonian-2019.csv\",sep= \";\")\n",
    "Est2019 = Est2019.drop('AUP', axis=1)\n",
    "Est2019 = Est2019.drop('ÜUP', axis=1)\n",
    "Est2019 = Est2019.drop(\"Testi ID\",axis=1)\n",
    "Est2019 = Est2019.drop(\"Soorituskeel\",axis=1)\n",
    "Est2019 = Est2019.drop(\"Max võimalik pallide arv\",axis=1)\n",
    "Est2019 = Est2019.drop(Est2019.columns[10:],axis=1)\n",
    "\n",
    "makeFloats(Est2019)\n",
    "resultEst2019 = find1(Est2019,[])"
   ]
  },
  {
   "cell_type": "code",
   "execution_count": 8,
   "metadata": {
    "id": "dr6u4UI159JE"
   },
   "outputs": [],
   "source": [
    "Est2020 = pd.read_csv(\"Estonian-2020.csv\",sep= \";\")\n",
    "Est2020 = Est2020.drop('AUP', axis=1)\n",
    "Est2020 = Est2020.drop('ÜUP', axis=1)\n",
    "Est2020 = Est2020.drop(\"Testi ID\",axis=1)\n",
    "Est2020 = Est2020.drop(\"Soorituskeel\",axis=1)\n",
    "Est2020 = Est2020.drop(\"Max võimalik pallide arv\",axis=1)\n",
    "Est2020 = Est2020.drop(Est2020.columns[10:],axis=1)\n",
    "\n",
    "makeFloats(Est2020)\n",
    "resultEst2020 = find1(Est2020,[])"
   ]
  },
  {
   "cell_type": "code",
   "execution_count": 9,
   "metadata": {
    "id": "2T1g5HM659JF"
   },
   "outputs": [],
   "source": [
    "Math2018A = pd.read_csv(\"Math-advanced-2018.csv\",sep= \";\")\n",
    "Math2018A = Math2018A.drop('AUP', axis=1)\n",
    "Math2018A = Math2018A.drop('ÜUP', axis=1)\n",
    "Math2018A = Math2018A.drop(\"Testi ID\",axis=1)\n",
    "Math2018A = Math2018A.drop(\"Soorituskeel\",axis=1)\n",
    "Math2018A = Math2018A.drop(\"Max võimalik pallide arv\",axis=1)\n",
    "Math2018A = Math2018A.drop(Math2018A.columns[10:],axis=1)\n",
    "\n",
    "makeFloats(Math2018A)\n",
    "resultMath2018A = find1(Math2018A,[])"
   ]
  },
  {
   "cell_type": "code",
   "execution_count": 10,
   "metadata": {
    "id": "COC2LnvG59JG"
   },
   "outputs": [],
   "source": [
    "Math2019A = pd.read_csv(\"Math-advanced-2019.csv\",sep= \";\")\n",
    "Math2019A = Math2019A.drop('AUP', axis=1)\n",
    "Math2019A = Math2019A.drop('ÜUP', axis=1)\n",
    "Math2019A = Math2019A.drop(\"Testi ID\",axis=1)\n",
    "Math2019A = Math2019A.drop(\"Soorituskeel\",axis=1)\n",
    "Math2019A = Math2019A.drop(\"Max võimalik pallide arv\",axis=1)\n",
    "Math2019A = Math2019A.drop(Math2019A.columns[10:],axis=1)\n",
    "\n",
    "makeFloats(Math2019A)\n",
    "resultMath2019A = find1(Math2019A,[])"
   ]
  },
  {
   "cell_type": "code",
   "execution_count": 11,
   "metadata": {
    "id": "sVfMkbsH59JH"
   },
   "outputs": [],
   "source": [
    "Math2020A = pd.read_csv(\"Math-advanced-2020.csv\",sep= \";\")\n",
    "Math2020A = Math2020A.drop('AUP', axis=1)\n",
    "Math2020A = Math2020A.drop('ÜUP', axis=1)\n",
    "Math2020A = Math2020A.drop(\"Testi ID\",axis=1)\n",
    "Math2020A = Math2020A.drop(\"Soorituskeel\",axis=1)\n",
    "Math2020A = Math2020A.drop(\"Max võimalik pallide arv\",axis=1)\n",
    "Math2020A = Math2020A.drop(Math2020A.columns[10:],axis=1)\n",
    "\n",
    "makeFloats(Math2020A)\n",
    "resultMath2020A = find1(Math2020A,[])"
   ]
  },
  {
   "cell_type": "code",
   "execution_count": 12,
   "metadata": {
    "id": "G_u5H3AH59JH"
   },
   "outputs": [],
   "source": [
    "Math2018 = pd.read_csv(\"Math-simple-2018.csv\",sep= \";\")\n",
    "Math2018 = Math2018.drop('AUP', axis=1)\n",
    "Math2018 = Math2018.drop('ÜUP', axis=1)\n",
    "Math2018 = Math2018.drop(\"Testi ID\",axis=1)\n",
    "Math2018 = Math2018.drop(\"Soorituskeel\",axis=1)\n",
    "Math2018 = Math2018.drop(\"Max võimalik pallide arv\",axis=1)\n",
    "Math2018 = Math2018.drop(Math2018.columns[10:],axis=1)\n",
    "\n",
    "makeFloats(Math2018)\n",
    "resultMath2018 = find1(Math2018,[])"
   ]
  },
  {
   "cell_type": "code",
   "execution_count": 13,
   "metadata": {
    "id": "Sjibi_uU59JI"
   },
   "outputs": [],
   "source": [
    "Math2019 = pd.read_csv(\"Math-simple-2019.csv\",sep= \";\")\n",
    "Math2019 = Math2019.drop('AUP', axis=1)\n",
    "Math2019 = Math2019.drop('ÜUP', axis=1)\n",
    "Math2019 = Math2019.drop(\"Testi ID\",axis=1)\n",
    "Math2019 = Math2019.drop(\"Soorituskeel\",axis=1)\n",
    "Math2019 = Math2019.drop(\"Max võimalik pallide arv\",axis=1)\n",
    "Math2019 = Math2019.drop(Math2019.columns[10:],axis=1)\n",
    "\n",
    "makeFloats(Math2019)\n",
    "resultMath2019 = find1(Math2019,[])"
   ]
  },
  {
   "cell_type": "code",
   "execution_count": 14,
   "metadata": {
    "id": "ywluwrdk59JI"
   },
   "outputs": [],
   "source": [
    "Math2020 = pd.read_csv(\"Math-simple-2020.csv\",sep= \";\")\n",
    "Math2020 = Math2020.drop('AUP', axis=1)\n",
    "Math2020 = Math2020.drop('ÜUP', axis=1)\n",
    "Math2020 = Math2020.drop(\"Testi ID\",axis=1)\n",
    "Math2020 = Math2020.drop(\"Soorituskeel\",axis=1)\n",
    "Math2020 = Math2020.drop(\"Max võimalik pallide arv\",axis=1)\n",
    "Math2020 = Math2020.drop(Math2020.columns[10:],axis=1)\n",
    "\n",
    "makeFloats(Math2020)\n",
    "resultMath2020 = find1(Math2020,[])\n"
   ]
  },
  {
   "cell_type": "code",
   "execution_count": null,
   "metadata": {
    "id": "k1eCC74f59JK"
   },
   "outputs": [],
   "source": []
  },
  {
   "cell_type": "code",
   "execution_count": null,
   "metadata": {
    "id": "wd4zGWbd59JL"
   },
   "outputs": [],
   "source": []
  },
  {
   "cell_type": "code",
   "execution_count": null,
   "metadata": {
    "id": "xws6YcKnnOjE"
   },
   "outputs": [],
   "source": []
  },
  {
   "cell_type": "code",
   "execution_count": 15,
   "metadata": {
    "colab": {
     "base_uri": "https://localhost:8080/"
    },
    "id": "DImxirAx59JM",
    "outputId": "1aaeb496-8c2e-41cc-cd09-dd9c21260631"
   },
   "outputs": [
    {
     "name": "stdout",
     "output_type": "stream",
     "text": [
      "                             Õppeasutus   Keskmine\n",
      "1                    Tallinna Reaalkool  81.549091\n",
      "2             Hugo Treffneri Gümnaasium  81.393143\n",
      "3      G. Otsa nim Tallinna Muusikakool  80.200000\n",
      "4              Gustav Adolfi Gümnaasium  78.321277\n",
      "5              Tallinna Inglise Kolledž  78.248148\n",
      "6            Tallinna Prantsuse Lütseum  78.247619\n",
      "7   Pärnu Sütevaka Humanitaargümnaasium  77.338095\n",
      "8                Miina Härma Gümnaasium  75.472727\n",
      "9           Tartu Jaan Poska Gümnaasium  73.301351\n",
      "10          Vanalinna Hariduskolleegium  73.264948\n"
     ]
    }
   ],
   "source": [
    "   Parimad_Est2018 = resultEst2018.sort_values(by=\"Keskmine\",ascending=False).head(10)\n",
    "Parimad_Est2018.index = np.arange(1, len(Parimad_Est2018) + 1)\n",
    "print(Parimad_Est2018[[\"Õppeasutus\",\"Keskmine\"]])\n"
   ]
  },
  {
   "cell_type": "code",
   "execution_count": 16,
   "metadata": {
    "colab": {
     "base_uri": "https://localhost:8080/"
    },
    "id": "wvn9QqaD59JN",
    "outputId": "fc36a1c4-b632-4edb-93fa-b6175853fe63"
   },
   "outputs": [
    {
     "name": "stdout",
     "output_type": "stream",
     "text": [
      "                             Õppeasutus   Keskmine\n",
      "1             Hugo Treffneri Gümnaasium  83.533149\n",
      "2   Pärnu Sütevaka Humanitaargümnaasium  83.010345\n",
      "3            Tallinna Prantsuse Lütseum  82.056140\n",
      "4                    Tallinna Reaalkool  80.537500\n",
      "5              Gustav Adolfi Gümnaasium  78.939286\n",
      "6           Vanalinna Hariduskolleegium  75.680000\n",
      "7                  Jõgevamaa Gümnaasium  74.919672\n",
      "8               Saaremaa Ühisgümnaasium  74.908772\n",
      "9           Tartu Jaan Poska Gümnaasium  74.156906\n",
      "10                  Nõo Reaalgümnaasium  72.673333\n"
     ]
    }
   ],
   "source": [
    "Parimad_Est2019 = resultEst2019.sort_values(by=\"Keskmine\",ascending=False).head(10)\n",
    "Parimad_Est2019.index = np.arange(1, len(Parimad_Est2019) + 1)\n",
    "print(Parimad_Est2019[[\"Õppeasutus\",\"Keskmine\"]])\n"
   ]
  },
  {
   "cell_type": "code",
   "execution_count": 17,
   "metadata": {
    "colab": {
     "base_uri": "https://localhost:8080/"
    },
    "id": "wS9JjrXU59JN",
    "outputId": "9f4bc20c-e4ec-42fe-9cca-644fb9894da1"
   },
   "outputs": [
    {
     "name": "stdout",
     "output_type": "stream",
     "text": [
      "                             Õppeasutus   Keskmine\n",
      "1                    Tallinna Reaalkool  82.362963\n",
      "2            Tallinna Prantsuse Lütseum  82.046154\n",
      "3             Hugo Treffneri Gümnaasium  81.065909\n",
      "4              Gustav Adolfi Gümnaasium  77.947015\n",
      "5                      Kehra Gümnaasium  76.000000\n",
      "6                     Tallinna 21. Kool  75.965421\n",
      "7              Tallinna Inglise Kolledž  75.716129\n",
      "8   Pärnu Sütevaka Humanitaargümnaasium  72.580645\n",
      "9                    Rocca al Mare Kool  72.219737\n",
      "10          Vanalinna Hariduskolleegium  71.378761\n"
     ]
    }
   ],
   "source": [
    "Parimad_Est2020 = resultEst2020.sort_values(by=\"Keskmine\",ascending=False).head(10)\n",
    "Parimad_Est2020.index = np.arange(1, len(Parimad_Est2020) + 1)\n",
    "print(Parimad_Est2020[[\"Õppeasutus\",\"Keskmine\"]])\n"
   ]
  },
  {
   "cell_type": "code",
   "execution_count": 18,
   "metadata": {
    "colab": {
     "base_uri": "https://localhost:8080/"
    },
    "id": "aHSiM-xL59JO",
    "outputId": "eaf28789-66b8-429c-f3d1-53f9a12926b0"
   },
   "outputs": [
    {
     "name": "stdout",
     "output_type": "stream",
     "text": [
      "                             Õppeasutus   Keskmine\n",
      "1                   Narva Keeltelütseum  93.150000\n",
      "2    Tallinna Kesklinna Vene Gümnaasium  88.600000\n",
      "3   Pärnu Sütevaka Humanitaargümnaasium  87.800000\n",
      "4              Tallinna Inglise Kolledž  86.769231\n",
      "5                    Tallinna Reaalkool  86.687500\n",
      "6                       Saue Gümnaasium  83.300000\n",
      "7            Narva Kesklinna Gümnaasium  81.700000\n",
      "8              Gustav Adolfi Gümnaasium  81.685263\n",
      "9           Narva Kreenholmi Gümnaasium  81.500000\n",
      "10                 Sakala Eragümnaasium  80.300000\n"
     ]
    }
   ],
   "source": [
    "Parimad_Math2018A = resultMath2018A.sort_values(by=\"Keskmine\",ascending=False).head(10)\n",
    "Parimad_Math2018A.index = np.arange(1, len(Parimad_Math2018A) + 1)\n",
    "print(Parimad_Math2018A[[\"Õppeasutus\",\"Keskmine\"]])\n"
   ]
  },
  {
   "cell_type": "code",
   "execution_count": 19,
   "metadata": {
    "colab": {
     "base_uri": "https://localhost:8080/"
    },
    "id": "JzM-I5Lb59JO",
    "outputId": "8cf78019-a1b2-4247-8d01-7b9f712a90aa"
   },
   "outputs": [
    {
     "name": "stdout",
     "output_type": "stream",
     "text": [
      "                            Õppeasutus   Keskmine\n",
      "1                  Narva Keeltelütseum  86.469565\n",
      "2             Tallinna Inglise Kolledž  85.800000\n",
      "3                   Tallinna Reaalkool  83.322115\n",
      "4            Hugo Treffneri Gümnaasium  82.513966\n",
      "5             Gustav Adolfi Gümnaasium  77.123214\n",
      "6                     Kuusalu Keskkool  76.769231\n",
      "7                  Tallinna Juudi Kool  76.300000\n",
      "8           Tallinna Prantsuse Lütseum  75.957143\n",
      "9   Tallinna Kesklinna Vene Gümnaasium  75.364286\n",
      "10            Vinni-Pajusti Gümnaasium  72.400000\n"
     ]
    }
   ],
   "source": [
    "Parimad_Math2019A = resultMath2019A.sort_values(by=\"Keskmine\",ascending=False).head(10)\n",
    "Parimad_Math2019A.index = np.arange(1, len(Parimad_Math2019A) + 1)\n",
    "print(Parimad_Math2019A[[\"Õppeasutus\",\"Keskmine\"]])\n"
   ]
  },
  {
   "cell_type": "code",
   "execution_count": 20,
   "metadata": {
    "colab": {
     "base_uri": "https://localhost:8080/"
    },
    "id": "-jCXlmL559JP",
    "outputId": "1ff09245-f81a-4861-a4f4-bb65c3b6e77b"
   },
   "outputs": [
    {
     "name": "stdout",
     "output_type": "stream",
     "text": [
      "                             Õppeasutus   Keskmine\n",
      "1                  Sakala Eragümnaasium  86.100000\n",
      "2                    Tallinna Reaalkool  85.788889\n",
      "3   Pärnu Sütevaka Humanitaargümnaasium  80.200000\n",
      "4              Tallinna Inglise Kolledž  79.000000\n",
      "5                   Narva Keeltelütseum  77.882353\n",
      "6                        EBS Gümnaasium  77.753846\n",
      "7            Tallinna Prantsuse Lütseum  75.121622\n",
      "8                  Jõgevamaa Gümnaasium  74.455172\n",
      "9             Hugo Treffneri Gümnaasium  72.957714\n",
      "10             Gustav Adolfi Gümnaasium  72.114286\n"
     ]
    }
   ],
   "source": [
    "Parimad_Math2020A = resultMath2020A.sort_values(by=\"Keskmine\",ascending=False).head(10)\n",
    "Parimad_Math2020A.index = np.arange(1, len(Parimad_Math2020A) + 1)\n",
    "print(Parimad_Math2020A[[\"Õppeasutus\",\"Keskmine\"]])\n"
   ]
  },
  {
   "cell_type": "code",
   "execution_count": 21,
   "metadata": {
    "colab": {
     "base_uri": "https://localhost:8080/"
    },
    "id": "XI5Ywd3q59JP",
    "outputId": "68667f12-9e38-41a7-ac31-a1ae7774d8ae"
   },
   "outputs": [
    {
     "name": "stdout",
     "output_type": "stream",
     "text": [
      "                             Õppeasutus   Keskmine\n",
      "1              Tallinna Inglise Kolledž  87.100000\n",
      "2                  Sakala Eragümnaasium  86.400000\n",
      "3                   Narva Keeltelütseum  80.400000\n",
      "4                       Saue Gümnaasium  76.200000\n",
      "5   Pärnu Sütevaka Humanitaargümnaasium  75.936538\n",
      "6              Pärnu Koidula Gümnaasium  75.800000\n",
      "7              Gustav Adolfi Gümnaasium  74.269565\n",
      "8             Narva Vanalinna Riigikool  72.785714\n",
      "9            Tallinna Prantsuse Lütseum  72.422727\n",
      "10              Saaremaa Ühisgümnaasium  71.500000\n"
     ]
    }
   ],
   "source": [
    "Parimad_Math2018 = resultMath2018.sort_values(by=\"Keskmine\",ascending=False).head(10)\n",
    "Parimad_Math2018.index = np.arange(1, len(Parimad_Math2018) + 1)\n",
    "print(Parimad_Math2018[[\"Õppeasutus\",\"Keskmine\"]])\n"
   ]
  },
  {
   "cell_type": "code",
   "execution_count": 22,
   "metadata": {
    "colab": {
     "base_uri": "https://localhost:8080/"
    },
    "id": "nkECYnkm59JQ",
    "outputId": "edef24cc-4444-4c18-d8cc-0f8cf513d675"
   },
   "outputs": [
    {
     "name": "stdout",
     "output_type": "stream",
     "text": [
      "                             Õppeasutus   Keskmine\n",
      "1              Tallinna Inglise Kolledž  85.600000\n",
      "2                   Narva Keeltelütseum  84.572727\n",
      "3              Gustav Adolfi Gümnaasium  79.503704\n",
      "4   Pärnu Sütevaka Humanitaargümnaasium  77.148718\n",
      "5              Pärnu Koidula Gümnaasium  71.800000\n",
      "6            Tallinna Prantsuse Lütseum  71.327273\n",
      "7                        EBS Gümnaasium  70.655000\n",
      "8           Tartu Jaan Poska Gümnaasium  70.202000\n",
      "9    Tallinna Kesklinna Vene Gümnaasium  67.805882\n",
      "10        Tallinna Humanitaargümnaasium  65.276471\n"
     ]
    }
   ],
   "source": [
    "Parimad_Math2019 = resultMath2019.sort_values(by=\"Keskmine\",ascending=False).head(10)\n",
    "Parimad_Math2019.index = np.arange(1, len(Parimad_Math2019) + 1)\n",
    "print(Parimad_Math2019[[\"Õppeasutus\",\"Keskmine\"]])"
   ]
  },
  {
   "cell_type": "code",
   "execution_count": 23,
   "metadata": {
    "colab": {
     "base_uri": "https://localhost:8080/"
    },
    "id": "n_qcxilI59JQ",
    "outputId": "d36874a6-56d1-4a48-e0f6-9c317cdcd02e"
   },
   "outputs": [
    {
     "name": "stdout",
     "output_type": "stream",
     "text": [
      "                             Õppeasutus   Keskmine\n",
      "1              Tallinna Inglise Kolledž  81.066667\n",
      "2                   Narva Keeltelütseum  79.385714\n",
      "3   Pärnu Sütevaka Humanitaargümnaasium  73.471739\n",
      "4              Gustav Adolfi Gümnaasium  73.400000\n",
      "5                       Saue Gümnaasium  70.200000\n",
      "6            Tallinna Prantsuse Lütseum  67.100000\n",
      "7         Tallinna Humanitaargümnaasium  66.400000\n",
      "8                  Sakala Eragümnaasium  64.200000\n",
      "9                      Kuusalu Keskkool  64.100000\n",
      "10             Pärnu Koidula Gümnaasium  62.800000\n"
     ]
    }
   ],
   "source": [
    "Parimad_Math2020 = resultMath2020.sort_values(by=\"Keskmine\",ascending=False).head(10)\n",
    "Parimad_Math2020.index = np.arange(1, len(Parimad_Math2020) + 1)\n",
    "print(Parimad_Math2020[[\"Õppeasutus\",\"Keskmine\"]])"
   ]
  },
  {
   "cell_type": "code",
   "execution_count": 24,
   "metadata": {
    "id": "syJyXmSU6Xe6"
   },
   "outputs": [
    {
     "name": "stdout",
     "output_type": "stream",
     "text": [
      "               Maakond   Keskmine\n",
      "1        Tartu maakond  67.383761\n",
      "2       Jõgeva maakond  65.151829\n",
      "3        Saare maakond  64.886170\n",
      "4        Pärnu maakond  63.957058\n",
      "5        Harju maakond  62.273473\n",
      "6         Hiiu maakond  61.572727\n",
      "7     Viljandi maakond  61.136364\n",
      "8        Rapla maakond  60.501744\n",
      "9   Lääne-Viru maakond  60.344785\n",
      "10       Põlva maakond  58.717391\n"
     ]
    }
   ],
   "source": [
    "parimadMaakonnad2018 = findMaakond(resultEst2019,[])\n",
    "parimadMaakonnad2018 = parimadMaakonnad2018.sort_values(by=\"Keskmine\",ascending=False).head(10)\n",
    "parimadMaakonnad2018.index = np.arange(1, len(parimadMaakonnad2018) + 1)\n",
    "print(parimadMaakonnad2018[[\"Maakond\",\"Keskmine\"]])"
   ]
  },
  {
   "cell_type": "code",
   "execution_count": null,
   "metadata": {},
   "outputs": [],
   "source": []
  }
 ],
 "metadata": {
  "colab": {
   "collapsed_sections": [],
   "name": "Project-C16.ipynb",
   "provenance": []
  },
  "kernelspec": {
   "display_name": "Python 3",
   "language": "python",
   "name": "python3"
  },
  "language_info": {
   "codemirror_mode": {
    "name": "ipython",
    "version": 3
   },
   "file_extension": ".py",
   "mimetype": "text/x-python",
   "name": "python",
   "nbconvert_exporter": "python",
   "pygments_lexer": "ipython3",
   "version": "3.8.3"
  }
 },
 "nbformat": 4,
 "nbformat_minor": 1
}

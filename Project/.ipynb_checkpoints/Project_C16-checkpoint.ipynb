{
 "cells": [
  {
   "cell_type": "code",
   "execution_count": 1,
   "metadata": {
    "id": "C5GAJNu659Iy"
   },
   "outputs": [],
   "source": [
    "#Reading data\n",
    "import numpy as np\n",
    "import pandas as pd"
   ]
  },
  {
   "cell_type": "code",
   "execution_count": 2,
   "metadata": {
    "id": "0cRbLlEjC691"
   },
   "outputs": [],
   "source": [
    "def makeFloats(data):\n",
    "  for i in range(len(data[\"Keskmine\"])):\n",
    "    a=data.iloc[i,9]\n",
    "    if type(a)==str:\n",
    "      a=a.replace(\",\",\".\")\n",
    "      a=float(a)\n",
    "      data.iat[i,9]=a"
   ]
  },
  {
   "cell_type": "code",
   "execution_count": 3,
   "metadata": {
    "id": "WE2p0RxJ4Swi"
   },
   "outputs": [],
   "source": [
    "def average(dictionary):\n",
    "    summary = sum(dictionary.values())\n",
    "    result = 0\n",
    "    for i in dictionary:\n",
    "        result += ((dictionary.get(i)/summary)*i)\n",
    "    return result,summary"
   ]
  },
  {
   "cell_type": "code",
   "execution_count": 4,
   "metadata": {
    "id": "QgtPwT_x4Mlv"
   },
   "outputs": [],
   "source": [
    "def find(data,myset):\n",
    "  uusData = pd.DataFrame(columns = ['Aasta', 'Test', 'Kooli tüüp', 'Õppekeel', 'Maakond',\n",
    "       'Õppeasutus', 'Sooritajaid', 'Keskmine'])\n",
    "  i=0\n",
    "  result=0\n",
    "  for i in range(len(data)):\n",
    "    ajutine=data.iloc[i,6]\n",
    "    if(not(ajutine in myset)):\n",
    "      myset.append(ajutine)\n",
    "      dic={}\n",
    "      for x in range(len(data)):\n",
    "        if(ajutine==data.iloc[x,6]):\n",
    "          a=data.iloc[x,9]\n",
    "          dic[a] = data.iloc[x,8]\n",
    "      avr = average(dic)\n",
    "      new_row = {\"Aasta\":data.iloc[i,0], 'Test':data.iloc[i,1], 'Kooli tüüp':data.iloc[i,3], 'Õppekeel':data.iloc[i,4], 'Maakond':data.iloc[i,5],\n",
    "       'Õppeasutus':data.iloc[i,6], 'Sooritajaid':avr[1], 'Keskmine':avr[0]}\n",
    "      uusData=uusData.append(new_row,ignore_index=True)\n",
    "      #uusData.loc[-1] = [2, 3, 4]\n",
    "      result+=1\n",
    "  return uusData\n",
    "\n"
   ]
  },
  {
   "cell_type": "code",
   "execution_count": 5,
   "metadata": {},
   "outputs": [],
   "source": [
    "def BestMaakond(data):\n",
    "    result = findMaakond(data,[])\n",
    "    result = result.sort_values(by=\"Keskmine\",ascending=False).head(10)\n",
    "    result.index = np.arange(1, len(result) + 1)\n",
    "    print(result[[\"Maakond\",\"Keskmine\"]])"
   ]
  },
  {
   "cell_type": "code",
   "execution_count": 6,
   "metadata": {},
   "outputs": [],
   "source": [
    "def BestSchool(data):\n",
    "    result = find(data,[])\n",
    "    result = result.sort_values(by=\"Keskmine\",ascending=False).head(10)\n",
    "    result.index = np.arange(1, len(result) + 1)\n",
    "    print(result[[\"Õppeasutus\",\"Keskmine\"]])"
   ]
  },
  {
   "cell_type": "code",
   "execution_count": null,
   "metadata": {},
   "outputs": [],
   "source": []
  },
  {
   "cell_type": "code",
   "execution_count": 7,
   "metadata": {},
   "outputs": [],
   "source": [
    "def findMaakond(data,myset):\n",
    "  uusData = pd.DataFrame(columns = ['Aasta', 'Test', 'Kooli tüüp', 'Õppekeel', 'Maakond',\n",
    "       'Õppeasutus', 'Sooritajaid', 'Keskmine'])\n",
    "  i=0\n",
    "  for i in range(len(data)):\n",
    "    ajutine=data.iloc[i,5]\n",
    "    if(not(ajutine in myset)):\n",
    "      myset.append(ajutine)\n",
    "      dic={}\n",
    "      for x in range(len(data)):\n",
    "        if(ajutine==data.iloc[x,5]):\n",
    "          a=data.iloc[x,9]\n",
    "          dic[a] = data.iloc[x,8]\n",
    "      avr = average(dic)\n",
    "      new_row = {\"Aasta\":data.iloc[i,0], 'Test':data.iloc[i,1], 'Kooli tüüp':data.iloc[i,3], 'Õppekeel':data.iloc[i,4], 'Maakond':data.iloc[i,5],\n",
    "       'Õppeasutus':data.iloc[i,6], 'Sooritajaid':avr[1], 'Keskmine':avr[0]}\n",
    "      uusData=uusData.append(new_row,ignore_index=True)\n",
    "  return uusData"
   ]
  },
  {
   "cell_type": "code",
   "execution_count": 8,
   "metadata": {
    "colab": {
     "base_uri": "https://localhost:8080/"
    },
    "id": "TSZprblX59JB",
    "outputId": "f1714936-2dc3-4871-9182-12eb87bf9734"
   },
   "outputs": [],
   "source": [
    "Est2018 = pd.read_csv(\"Estonian-2018.csv\",sep= \";\")\n",
    "Est2018 = Est2018.drop('AUP', axis=1)\n",
    "Est2018 = Est2018.drop('ÜUP', axis=1)\n",
    "Est2018 = Est2018.drop(\"Testi ID\",axis=1)\n",
    "Est2018 = Est2018.drop(\"Soorituskeel\",axis=1)\n",
    "Est2018 = Est2018.drop(\"Max võimalik pallide arv\",axis=1)\n",
    "Est2018 = Est2018.drop(Est2018.columns[10:],axis=1)\n",
    "\n",
    "makeFloats(Est2018)\n"
   ]
  },
  {
   "cell_type": "code",
   "execution_count": 9,
   "metadata": {
    "id": "smwgjf5Z59JD"
   },
   "outputs": [],
   "source": [
    "Est2019 = pd.read_csv(\"Estonian-2019.csv\",sep= \";\")\n",
    "Est2019 = Est2019.drop('AUP', axis=1)\n",
    "Est2019 = Est2019.drop('ÜUP', axis=1)\n",
    "Est2019 = Est2019.drop(\"Testi ID\",axis=1)\n",
    "Est2019 = Est2019.drop(\"Soorituskeel\",axis=1)\n",
    "Est2019 = Est2019.drop(\"Max võimalik pallide arv\",axis=1)\n",
    "Est2019 = Est2019.drop(Est2019.columns[10:],axis=1)\n",
    "\n",
    "makeFloats(Est2019)\n"
   ]
  },
  {
   "cell_type": "code",
   "execution_count": 10,
   "metadata": {
    "id": "dr6u4UI159JE"
   },
   "outputs": [],
   "source": [
    "Est2020 = pd.read_csv(\"Estonian-2020.csv\",sep= \";\")\n",
    "Est2020 = Est2020.drop('AUP', axis=1)\n",
    "Est2020 = Est2020.drop('ÜUP', axis=1)\n",
    "Est2020 = Est2020.drop(\"Testi ID\",axis=1)\n",
    "Est2020 = Est2020.drop(\"Soorituskeel\",axis=1)\n",
    "Est2020 = Est2020.drop(\"Max võimalik pallide arv\",axis=1)\n",
    "Est2020 = Est2020.drop(Est2020.columns[10:],axis=1)\n",
    "\n",
    "makeFloats(Est2020)\n"
   ]
  },
  {
   "cell_type": "code",
   "execution_count": 11,
   "metadata": {
    "id": "2T1g5HM659JF"
   },
   "outputs": [],
   "source": [
    "Math2018A = pd.read_csv(\"Math-advanced-2018.csv\",sep= \";\")\n",
    "Math2018A = Math2018A.drop('AUP', axis=1)\n",
    "Math2018A = Math2018A.drop('ÜUP', axis=1)\n",
    "Math2018A = Math2018A.drop(\"Testi ID\",axis=1)\n",
    "Math2018A = Math2018A.drop(\"Soorituskeel\",axis=1)\n",
    "Math2018A = Math2018A.drop(\"Max võimalik pallide arv\",axis=1)\n",
    "Math2018A = Math2018A.drop(Math2018A.columns[10:],axis=1)\n",
    "\n",
    "makeFloats(Math2018A)\n"
   ]
  },
  {
   "cell_type": "code",
   "execution_count": 12,
   "metadata": {
    "id": "COC2LnvG59JG"
   },
   "outputs": [],
   "source": [
    "Math2019A = pd.read_csv(\"Math-advanced-2019.csv\",sep= \";\")\n",
    "Math2019A = Math2019A.drop('AUP', axis=1)\n",
    "Math2019A = Math2019A.drop('ÜUP', axis=1)\n",
    "Math2019A = Math2019A.drop(\"Testi ID\",axis=1)\n",
    "Math2019A = Math2019A.drop(\"Soorituskeel\",axis=1)\n",
    "Math2019A = Math2019A.drop(\"Max võimalik pallide arv\",axis=1)\n",
    "Math2019A = Math2019A.drop(Math2019A.columns[10:],axis=1)\n",
    "\n",
    "makeFloats(Math2019A)\n"
   ]
  },
  {
   "cell_type": "code",
   "execution_count": 13,
   "metadata": {
    "id": "sVfMkbsH59JH"
   },
   "outputs": [],
   "source": [
    "Math2020A = pd.read_csv(\"Math-advanced-2020.csv\",sep= \";\")\n",
    "Math2020A = Math2020A.drop('AUP', axis=1)\n",
    "Math2020A = Math2020A.drop('ÜUP', axis=1)\n",
    "Math2020A = Math2020A.drop(\"Testi ID\",axis=1)\n",
    "Math2020A = Math2020A.drop(\"Soorituskeel\",axis=1)\n",
    "Math2020A = Math2020A.drop(\"Max võimalik pallide arv\",axis=1)\n",
    "Math2020A = Math2020A.drop(Math2020A.columns[10:],axis=1)\n",
    "\n",
    "makeFloats(Math2020A)\n"
   ]
  },
  {
   "cell_type": "code",
   "execution_count": 14,
   "metadata": {
    "id": "G_u5H3AH59JH"
   },
   "outputs": [],
   "source": [
    "Math2018 = pd.read_csv(\"Math-simple-2018.csv\",sep= \";\")\n",
    "Math2018 = Math2018.drop('AUP', axis=1)\n",
    "Math2018 = Math2018.drop('ÜUP', axis=1)\n",
    "Math2018 = Math2018.drop(\"Testi ID\",axis=1)\n",
    "Math2018 = Math2018.drop(\"Soorituskeel\",axis=1)\n",
    "Math2018 = Math2018.drop(\"Max võimalik pallide arv\",axis=1)\n",
    "Math2018 = Math2018.drop(Math2018.columns[10:],axis=1)\n",
    "\n",
    "makeFloats(Math2018)\n"
   ]
  },
  {
   "cell_type": "code",
   "execution_count": 15,
   "metadata": {
    "id": "Sjibi_uU59JI"
   },
   "outputs": [],
   "source": [
    "Math2019 = pd.read_csv(\"Math-simple-2019.csv\",sep= \";\")\n",
    "Math2019 = Math2019.drop('AUP', axis=1)\n",
    "Math2019 = Math2019.drop('ÜUP', axis=1)\n",
    "Math2019 = Math2019.drop(\"Testi ID\",axis=1)\n",
    "Math2019 = Math2019.drop(\"Soorituskeel\",axis=1)\n",
    "Math2019 = Math2019.drop(\"Max võimalik pallide arv\",axis=1)\n",
    "Math2019 = Math2019.drop(Math2019.columns[10:],axis=1)\n",
    "\n",
    "makeFloats(Math2019)\n"
   ]
  },
  {
   "cell_type": "code",
   "execution_count": 16,
   "metadata": {
    "id": "ywluwrdk59JI"
   },
   "outputs": [],
   "source": [
    "Math2020 = pd.read_csv(\"Math-simple-2020.csv\",sep= \";\")\n",
    "Math2020 = Math2020.drop('AUP', axis=1)\n",
    "Math2020 = Math2020.drop('ÜUP', axis=1)\n",
    "Math2020 = Math2020.drop(\"Testi ID\",axis=1)\n",
    "Math2020 = Math2020.drop(\"Soorituskeel\",axis=1)\n",
    "Math2020 = Math2020.drop(\"Max võimalik pallide arv\",axis=1)\n",
    "Math2020 = Math2020.drop(Math2020.columns[10:],axis=1)\n",
    "\n",
    "makeFloats(Math2020)\n",
    "\n"
   ]
  },
  {
   "cell_type": "code",
   "execution_count": null,
   "metadata": {
    "id": "k1eCC74f59JK"
   },
   "outputs": [],
   "source": []
  },
  {
   "cell_type": "code",
   "execution_count": null,
   "metadata": {
    "id": "wd4zGWbd59JL"
   },
   "outputs": [],
   "source": []
  },
  {
   "cell_type": "code",
   "execution_count": null,
   "metadata": {
    "id": "xws6YcKnnOjE"
   },
   "outputs": [],
   "source": []
  },
  {
   "cell_type": "code",
   "execution_count": 17,
   "metadata": {
    "colab": {
     "base_uri": "https://localhost:8080/"
    },
    "id": "DImxirAx59JM",
    "outputId": "1aaeb496-8c2e-41cc-cd09-dd9c21260631"
   },
   "outputs": [
    {
     "name": "stdout",
     "output_type": "stream",
     "text": [
      "                             Õppeasutus   Keskmine\n",
      "1                    Tallinna Reaalkool  81.549091\n",
      "2             Hugo Treffneri Gümnaasium  81.393143\n",
      "3      G. Otsa nim Tallinna Muusikakool  80.200000\n",
      "4              Gustav Adolfi Gümnaasium  78.321277\n",
      "5              Tallinna Inglise Kolledž  78.248148\n",
      "6            Tallinna Prantsuse Lütseum  78.247619\n",
      "7   Pärnu Sütevaka Humanitaargümnaasium  77.338095\n",
      "8                Miina Härma Gümnaasium  75.472727\n",
      "9           Tartu Jaan Poska Gümnaasium  73.301351\n",
      "10          Vanalinna Hariduskolleegium  73.264948\n",
      "           Maakond   Keskmine\n",
      "1    Tartu maakond  67.716431\n",
      "2   Jõgeva maakond  66.003468\n",
      "3    Harju maakond  63.838733\n",
      "4    Saare maakond  62.373869\n",
      "5    Pärnu maakond  62.274486\n",
      "6     Hiiu maakond  61.425000\n",
      "7     Võru maakond  60.880769\n",
      "8    Lääne maakond  60.659119\n",
      "9    Rapla maakond  59.710778\n",
      "10   Põlva maakond  59.531250\n"
     ]
    }
   ],
   "source": [
    "BestSchool(Est2018)\n",
    "BestMaakond(Est2018)"
   ]
  },
  {
   "cell_type": "code",
   "execution_count": 18,
   "metadata": {
    "colab": {
     "base_uri": "https://localhost:8080/"
    },
    "id": "wvn9QqaD59JN",
    "outputId": "fc36a1c4-b632-4edb-93fa-b6175853fe63"
   },
   "outputs": [
    {
     "name": "stdout",
     "output_type": "stream",
     "text": [
      "                             Õppeasutus   Keskmine\n",
      "1             Hugo Treffneri Gümnaasium  83.533149\n",
      "2   Pärnu Sütevaka Humanitaargümnaasium  83.010345\n",
      "3            Tallinna Prantsuse Lütseum  82.056140\n",
      "4                    Tallinna Reaalkool  80.537500\n",
      "5              Gustav Adolfi Gümnaasium  78.939286\n",
      "6           Vanalinna Hariduskolleegium  75.680000\n",
      "7                  Jõgevamaa Gümnaasium  74.919672\n",
      "8               Saaremaa Ühisgümnaasium  74.908772\n",
      "9           Tartu Jaan Poska Gümnaasium  74.156906\n",
      "10                  Nõo Reaalgümnaasium  72.673333\n",
      "               Maakond   Keskmine\n",
      "1        Tartu maakond  67.383761\n",
      "2       Jõgeva maakond  65.151829\n",
      "3        Saare maakond  64.886170\n",
      "4        Pärnu maakond  63.957058\n",
      "5        Harju maakond  62.660377\n",
      "6         Hiiu maakond  61.572727\n",
      "7     Viljandi maakond  61.136364\n",
      "8        Rapla maakond  60.501744\n",
      "9   Lääne-Viru maakond  60.344785\n",
      "10       Põlva maakond  58.717391\n"
     ]
    }
   ],
   "source": [
    "BestSchool(Est2019)\n",
    "BestMaakond(Est2019)"
   ]
  },
  {
   "cell_type": "code",
   "execution_count": 19,
   "metadata": {
    "colab": {
     "base_uri": "https://localhost:8080/"
    },
    "id": "wS9JjrXU59JN",
    "outputId": "9f4bc20c-e4ec-42fe-9cca-644fb9894da1"
   },
   "outputs": [
    {
     "name": "stdout",
     "output_type": "stream",
     "text": [
      "                             Õppeasutus   Keskmine\n",
      "1                    Tallinna Reaalkool  82.362963\n",
      "2            Tallinna Prantsuse Lütseum  82.046154\n",
      "3             Hugo Treffneri Gümnaasium  81.065909\n",
      "4              Gustav Adolfi Gümnaasium  77.947015\n",
      "5                      Kehra Gümnaasium  76.000000\n",
      "6                     Tallinna 21. Kool  75.965421\n",
      "7              Tallinna Inglise Kolledž  75.716129\n",
      "8   Pärnu Sütevaka Humanitaargümnaasium  72.580645\n",
      "9                    Rocca al Mare Kool  72.219737\n",
      "10          Vanalinna Hariduskolleegium  71.378761\n",
      "               Maakond   Keskmine\n",
      "1        Tartu maakond  65.082120\n",
      "2       Jõgeva maakond  64.892742\n",
      "3        Harju maakond  63.901186\n",
      "4        Rapla maakond  63.037195\n",
      "5        Pärnu maakond  61.621782\n",
      "6         Võru maakond  61.248366\n",
      "7        Saare maakond  60.922613\n",
      "8   Lääne-Viru maakond  60.133858\n",
      "9         Hiiu maakond  60.076923\n",
      "10    Viljandi maakond  58.239357\n"
     ]
    }
   ],
   "source": [
    "BestSchool(Est2020)\n",
    "BestMaakond(Est2020)"
   ]
  },
  {
   "cell_type": "code",
   "execution_count": 20,
   "metadata": {
    "colab": {
     "base_uri": "https://localhost:8080/"
    },
    "id": "aHSiM-xL59JO",
    "outputId": "eaf28789-66b8-429c-f3d1-53f9a12926b0"
   },
   "outputs": [
    {
     "name": "stdout",
     "output_type": "stream",
     "text": [
      "                             Õppeasutus   Keskmine\n",
      "1                   Narva Keeltelütseum  93.150000\n",
      "2    Tallinna Kesklinna Vene Gümnaasium  88.600000\n",
      "3   Pärnu Sütevaka Humanitaargümnaasium  87.800000\n",
      "4              Tallinna Inglise Kolledž  86.769231\n",
      "5                    Tallinna Reaalkool  86.687500\n",
      "6                       Saue Gümnaasium  83.300000\n",
      "7            Narva Kesklinna Gümnaasium  81.700000\n",
      "8              Gustav Adolfi Gümnaasium  81.685263\n",
      "9           Narva Kreenholmi Gümnaasium  81.500000\n",
      "10                 Sakala Eragümnaasium  80.300000\n",
      "             Maakond   Keskmine\n",
      "1      Tartu maakond  64.471880\n",
      "2      Saare maakond  62.140230\n",
      "3      Pärnu maakond  59.832110\n",
      "4      Lääne maakond  57.932000\n",
      "5   Viljandi maakond  57.509722\n",
      "6   Ida-Viru maakond  56.521543\n",
      "7     Jõgeva maakond  55.774359\n",
      "8      Harju maakond  54.553616\n",
      "9          Määramata  49.861250\n",
      "10      Võru maakond  45.865556\n"
     ]
    }
   ],
   "source": [
    "BestSchool(Math2018A)\n",
    "BestMaakond(Math2018A)"
   ]
  },
  {
   "cell_type": "code",
   "execution_count": 21,
   "metadata": {
    "colab": {
     "base_uri": "https://localhost:8080/"
    },
    "id": "JzM-I5Lb59JO",
    "outputId": "8cf78019-a1b2-4247-8d01-7b9f712a90aa"
   },
   "outputs": [
    {
     "name": "stdout",
     "output_type": "stream",
     "text": [
      "                            Õppeasutus   Keskmine\n",
      "1                  Narva Keeltelütseum  86.469565\n",
      "2             Tallinna Inglise Kolledž  85.800000\n",
      "3                   Tallinna Reaalkool  83.322115\n",
      "4            Hugo Treffneri Gümnaasium  82.513966\n",
      "5             Gustav Adolfi Gümnaasium  77.123214\n",
      "6                     Kuusalu Keskkool  76.769231\n",
      "7                  Tallinna Juudi Kool  76.300000\n",
      "8           Tallinna Prantsuse Lütseum  75.957143\n",
      "9   Tallinna Kesklinna Vene Gümnaasium  75.364286\n",
      "10            Vinni-Pajusti Gümnaasium  72.400000\n",
      "             Maakond   Keskmine\n",
      "1      Lääne maakond  65.794444\n",
      "2      Saare maakond  60.507246\n",
      "3      Tartu maakond  59.890190\n",
      "4      Pärnu maakond  57.591818\n",
      "5   Ida-Viru maakond  54.366319\n",
      "6   Viljandi maakond  52.740351\n",
      "7     Jõgeva maakond  51.889552\n",
      "8      Harju maakond  50.980368\n",
      "9       Võru maakond  47.716667\n",
      "10      Hiiu maakond  45.748276\n"
     ]
    }
   ],
   "source": [
    "BestSchool(Math2019A)\n",
    "BestMaakond(Math2019A)"
   ]
  },
  {
   "cell_type": "code",
   "execution_count": 22,
   "metadata": {
    "colab": {
     "base_uri": "https://localhost:8080/"
    },
    "id": "-jCXlmL559JP",
    "outputId": "1ff09245-f81a-4861-a4f4-bb65c3b6e77b"
   },
   "outputs": [
    {
     "name": "stdout",
     "output_type": "stream",
     "text": [
      "                             Õppeasutus   Keskmine\n",
      "1                  Sakala Eragümnaasium  86.100000\n",
      "2                    Tallinna Reaalkool  85.788889\n",
      "3   Pärnu Sütevaka Humanitaargümnaasium  80.200000\n",
      "4              Tallinna Inglise Kolledž  79.000000\n",
      "5                   Narva Keeltelütseum  77.882353\n",
      "6                        EBS Gümnaasium  77.753846\n",
      "7            Tallinna Prantsuse Lütseum  75.121622\n",
      "8                  Jõgevamaa Gümnaasium  74.455172\n",
      "9             Hugo Treffneri Gümnaasium  72.957714\n",
      "10             Gustav Adolfi Gümnaasium  72.114286\n",
      "             Maakond   Keskmine\n",
      "1      Pärnu maakond  59.912766\n",
      "2      Tartu maakond  57.132857\n",
      "3   Ida-Viru maakond  55.826792\n",
      "4      Saare maakond  55.064000\n",
      "5      Lääne maakond  53.922000\n",
      "6     Jõgeva maakond  53.701538\n",
      "7      Harju maakond  52.301434\n",
      "8       Võru maakond  49.510256\n",
      "9          Määramata  46.442574\n",
      "10     Rapla maakond  44.359302\n"
     ]
    }
   ],
   "source": [
    "BestSchool(Math2020A)\n",
    "BestMaakond(Math2020A)"
   ]
  },
  {
   "cell_type": "code",
   "execution_count": 23,
   "metadata": {
    "colab": {
     "base_uri": "https://localhost:8080/"
    },
    "id": "XI5Ywd3q59JP",
    "outputId": "68667f12-9e38-41a7-ac31-a1ae7774d8ae"
   },
   "outputs": [
    {
     "name": "stdout",
     "output_type": "stream",
     "text": [
      "                             Õppeasutus   Keskmine\n",
      "1              Tallinna Inglise Kolledž  87.100000\n",
      "2                  Sakala Eragümnaasium  86.400000\n",
      "3                   Narva Keeltelütseum  80.400000\n",
      "4                       Saue Gümnaasium  76.200000\n",
      "5   Pärnu Sütevaka Humanitaargümnaasium  75.936538\n",
      "6              Pärnu Koidula Gümnaasium  75.800000\n",
      "7              Gustav Adolfi Gümnaasium  74.269565\n",
      "8             Narva Vanalinna Riigikool  72.785714\n",
      "9            Tallinna Prantsuse Lütseum  72.422727\n",
      "10              Saaremaa Ühisgümnaasium  71.500000\n",
      "             Maakond   Keskmine\n",
      "1     Jõgeva maakond  45.885882\n",
      "2      Pärnu maakond  43.016735\n",
      "3      Põlva maakond  42.668000\n",
      "4          Määramata  41.380000\n",
      "5      Lääne maakond  40.375000\n",
      "6      Saare maakond  39.818085\n",
      "7   Ida-Viru maakond  38.584564\n",
      "8      Harju maakond  38.022079\n",
      "9      Tartu maakond  37.820985\n",
      "10      Võru maakond  34.692308\n"
     ]
    }
   ],
   "source": [
    "BestSchool(Math2018)\n",
    "BestMaakond(Math2018)"
   ]
  },
  {
   "cell_type": "code",
   "execution_count": 24,
   "metadata": {
    "colab": {
     "base_uri": "https://localhost:8080/"
    },
    "id": "nkECYnkm59JQ",
    "outputId": "edef24cc-4444-4c18-d8cc-0f8cf513d675"
   },
   "outputs": [
    {
     "name": "stdout",
     "output_type": "stream",
     "text": [
      "                             Õppeasutus   Keskmine\n",
      "1              Tallinna Inglise Kolledž  85.600000\n",
      "2                   Narva Keeltelütseum  84.572727\n",
      "3              Gustav Adolfi Gümnaasium  79.503704\n",
      "4   Pärnu Sütevaka Humanitaargümnaasium  77.148718\n",
      "5              Pärnu Koidula Gümnaasium  71.800000\n",
      "6            Tallinna Prantsuse Lütseum  71.327273\n",
      "7                        EBS Gümnaasium  70.655000\n",
      "8           Tartu Jaan Poska Gümnaasium  70.202000\n",
      "9    Tallinna Kesklinna Vene Gümnaasium  67.805882\n",
      "10        Tallinna Humanitaargümnaasium  65.276471\n",
      "             Maakond   Keskmine\n",
      "1      Pärnu maakond  43.909787\n",
      "2      Põlva maakond  40.852632\n",
      "3      Tartu maakond  40.211522\n",
      "4      Saare maakond  39.344545\n",
      "5     Jõgeva maakond  39.326437\n",
      "6      Harju maakond  38.705235\n",
      "7      Lääne maakond  38.162105\n",
      "8   Ida-Viru maakond  35.832063\n",
      "9          Määramata  33.352174\n",
      "10     Valga maakond  33.051515\n"
     ]
    }
   ],
   "source": [
    "BestSchool(Math2019)\n",
    "BestMaakond(Math2019)"
   ]
  },
  {
   "cell_type": "code",
   "execution_count": 25,
   "metadata": {
    "colab": {
     "base_uri": "https://localhost:8080/"
    },
    "id": "n_qcxilI59JQ",
    "outputId": "d36874a6-56d1-4a48-e0f6-9c317cdcd02e"
   },
   "outputs": [
    {
     "name": "stdout",
     "output_type": "stream",
     "text": [
      "                             Õppeasutus   Keskmine\n",
      "1              Tallinna Inglise Kolledž  81.066667\n",
      "2                   Narva Keeltelütseum  79.385714\n",
      "3   Pärnu Sütevaka Humanitaargümnaasium  73.471739\n",
      "4              Gustav Adolfi Gümnaasium  73.400000\n",
      "5                       Saue Gümnaasium  70.200000\n",
      "6            Tallinna Prantsuse Lütseum  67.100000\n",
      "7         Tallinna Humanitaargümnaasium  66.400000\n",
      "8                  Sakala Eragümnaasium  64.200000\n",
      "9                      Kuusalu Keskkool  64.100000\n",
      "10             Pärnu Koidula Gümnaasium  62.800000\n",
      "             Maakond   Keskmine\n",
      "1   Ida-Viru maakond  47.463725\n",
      "2      Pärnu maakond  45.605921\n",
      "3     Jõgeva maakond  43.434694\n",
      "4      Harju maakond  39.612809\n",
      "5      Tartu maakond  38.034286\n",
      "6      Põlva maakond  37.537500\n",
      "7      Lääne maakond  35.768627\n",
      "8          Määramata  34.166667\n",
      "9      Saare maakond  33.100000\n",
      "10  Viljandi maakond  30.802083\n"
     ]
    }
   ],
   "source": [
    "BestSchool(Math2020)\n",
    "BestMaakond(Math2020)"
   ]
  },
  {
   "cell_type": "code",
   "execution_count": null,
   "metadata": {
    "id": "syJyXmSU6Xe6"
   },
   "outputs": [],
   "source": []
  },
  {
   "cell_type": "code",
   "execution_count": null,
   "metadata": {},
   "outputs": [],
   "source": []
  }
 ],
 "metadata": {
  "colab": {
   "collapsed_sections": [],
   "name": "Project-C16.ipynb",
   "provenance": []
  },
  "kernelspec": {
   "display_name": "Python 3",
   "language": "python",
   "name": "python3"
  },
  "language_info": {
   "codemirror_mode": {
    "name": "ipython",
    "version": 3
   },
   "file_extension": ".py",
   "mimetype": "text/x-python",
   "name": "python",
   "nbconvert_exporter": "python",
   "pygments_lexer": "ipython3",
   "version": "3.8.3"
  }
 },
 "nbformat": 4,
 "nbformat_minor": 1
}
